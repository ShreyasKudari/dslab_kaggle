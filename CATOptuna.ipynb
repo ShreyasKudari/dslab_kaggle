{
  "nbformat": 4,
  "nbformat_minor": 0,
  "metadata": {
    "colab": {
      "name": "CATOptuna.ipynb",
      "provenance": []
    },
    "kernelspec": {
      "name": "python3",
      "display_name": "Python 3"
    }
  },
  "cells": [
    {
      "cell_type": "markdown",
      "metadata": {
        "id": "CwzBufsjGeTt"
      },
      "source": [
        "#Optuna tuning for CATBoost"
      ]
    },
    {
      "cell_type": "code",
      "metadata": {
        "id": "eDSxDqU2iHP6",
        "outputId": "67f8c4c6-55e3-41cd-bef5-ae041a61767e",
        "colab": {
          "base_uri": "https://localhost:8080/",
          "height": 1000
        }
      },
      "source": [
        "!pip install optuna\n",
        "!pip install catboost\n",
        "#!pip install optcat\n"
      ],
      "execution_count": null,
      "outputs": [
        {
          "output_type": "stream",
          "text": [
            "Collecting optuna\n",
            "\u001b[?25l  Downloading https://files.pythonhosted.org/packages/67/2b/78129c5580f1743d897214e2d76c20bea8d41c414be6ef1b92c0ce13856e/optuna-2.2.0.tar.gz (246kB)\n",
            "\r\u001b[K     |█▎                              | 10kB 17.0MB/s eta 0:00:01\r\u001b[K     |██▋                             | 20kB 2.7MB/s eta 0:00:01\r\u001b[K     |████                            | 30kB 3.1MB/s eta 0:00:01\r\u001b[K     |█████▎                          | 40kB 3.5MB/s eta 0:00:01\r\u001b[K     |██████▋                         | 51kB 3.2MB/s eta 0:00:01\r\u001b[K     |████████                        | 61kB 3.5MB/s eta 0:00:01\r\u001b[K     |█████████▎                      | 71kB 3.7MB/s eta 0:00:01\r\u001b[K     |██████████▋                     | 81kB 4.0MB/s eta 0:00:01\r\u001b[K     |████████████                    | 92kB 4.1MB/s eta 0:00:01\r\u001b[K     |█████████████▎                  | 102kB 4.2MB/s eta 0:00:01\r\u001b[K     |██████████████▋                 | 112kB 4.2MB/s eta 0:00:01\r\u001b[K     |████████████████                | 122kB 4.2MB/s eta 0:00:01\r\u001b[K     |█████████████████▎              | 133kB 4.2MB/s eta 0:00:01\r\u001b[K     |██████████████████▋             | 143kB 4.2MB/s eta 0:00:01\r\u001b[K     |████████████████████            | 153kB 4.2MB/s eta 0:00:01\r\u001b[K     |█████████████████████▎          | 163kB 4.2MB/s eta 0:00:01\r\u001b[K     |██████████████████████▋         | 174kB 4.2MB/s eta 0:00:01\r\u001b[K     |████████████████████████        | 184kB 4.2MB/s eta 0:00:01\r\u001b[K     |█████████████████████████▎      | 194kB 4.2MB/s eta 0:00:01\r\u001b[K     |██████████████████████████▋     | 204kB 4.2MB/s eta 0:00:01\r\u001b[K     |████████████████████████████    | 215kB 4.2MB/s eta 0:00:01\r\u001b[K     |█████████████████████████████▎  | 225kB 4.2MB/s eta 0:00:01\r\u001b[K     |██████████████████████████████▋ | 235kB 4.2MB/s eta 0:00:01\r\u001b[K     |███████████████████████████████▉| 245kB 4.2MB/s eta 0:00:01\r\u001b[K     |████████████████████████████████| 256kB 4.2MB/s \n",
            "\u001b[?25h  Installing build dependencies ... \u001b[?25l\u001b[?25hdone\n",
            "  Getting requirements to build wheel ... \u001b[?25l\u001b[?25hdone\n",
            "    Preparing wheel metadata ... \u001b[?25l\u001b[?25hdone\n",
            "Requirement already satisfied: joblib in /usr/local/lib/python3.6/dist-packages (from optuna) (0.16.0)\n",
            "Requirement already satisfied: sqlalchemy>=1.1.0 in /usr/local/lib/python3.6/dist-packages (from optuna) (1.3.19)\n",
            "Collecting cliff\n",
            "\u001b[?25l  Downloading https://files.pythonhosted.org/packages/71/06/03b1f92d46546a18eabf33ff7f37ef422c18c93d5a926bf590fee32ebe75/cliff-3.4.0-py3-none-any.whl (76kB)\n",
            "\u001b[K     |████████████████████████████████| 81kB 4.8MB/s \n",
            "\u001b[?25hCollecting alembic\n",
            "\u001b[?25l  Downloading https://files.pythonhosted.org/packages/12/aa/c261dfd7f4ba6ce4701846a2689a46e2a172e012171de4378fc2926e3bf0/alembic-1.4.3-py2.py3-none-any.whl (159kB)\n",
            "\u001b[K     |████████████████████████████████| 163kB 7.8MB/s \n",
            "\u001b[?25hCollecting colorlog\n",
            "  Downloading https://files.pythonhosted.org/packages/8c/10/0b39be7ff1adb8888fe87c8628c071dec5ac282ac1c2312221f5feb09215/colorlog-4.4.0-py2.py3-none-any.whl\n",
            "Collecting cmaes>=0.6.0\n",
            "  Downloading https://files.pythonhosted.org/packages/8d/3c/06c76ec8b54b9b1fad7f35e903fd25010fe3e0d41bd94cea5e6f12e0d651/cmaes-0.7.0-py3-none-any.whl\n",
            "Requirement already satisfied: scipy!=1.4.0 in /usr/local/lib/python3.6/dist-packages (from optuna) (1.4.1)\n",
            "Requirement already satisfied: numpy in /usr/local/lib/python3.6/dist-packages (from optuna) (1.18.5)\n",
            "Requirement already satisfied: packaging>=20.0 in /usr/local/lib/python3.6/dist-packages (from optuna) (20.4)\n",
            "Requirement already satisfied: tqdm in /usr/local/lib/python3.6/dist-packages (from optuna) (4.41.1)\n",
            "Requirement already satisfied: six>=1.10.0 in /usr/local/lib/python3.6/dist-packages (from cliff->optuna) (1.15.0)\n",
            "Collecting cmd2!=0.8.3,>=0.8.0\n",
            "\u001b[?25l  Downloading https://files.pythonhosted.org/packages/c6/94/0f4f16cff4977188d715a95ea3f90f054b7eb73b05afaf51431a3d77b992/cmd2-1.3.11-py3-none-any.whl (133kB)\n",
            "\u001b[K     |████████████████████████████████| 143kB 8.0MB/s \n",
            "\u001b[?25hRequirement already satisfied: pyparsing>=2.1.0 in /usr/local/lib/python3.6/dist-packages (from cliff->optuna) (2.4.7)\n",
            "Requirement already satisfied: PyYAML>=3.12 in /usr/local/lib/python3.6/dist-packages (from cliff->optuna) (3.13)\n",
            "Collecting stevedore>=2.0.1\n",
            "\u001b[?25l  Downloading https://files.pythonhosted.org/packages/b8/a1/004f04ba411a8002b02aadb089fd6868116c12ddc9f6d576175e89d07587/stevedore-3.2.2-py3-none-any.whl (42kB)\n",
            "\u001b[K     |████████████████████████████████| 51kB 5.6MB/s \n",
            "\u001b[?25hCollecting pbr!=2.1.0,>=2.0.0\n",
            "\u001b[?25l  Downloading https://files.pythonhosted.org/packages/fb/48/69046506f6ac61c1eaa9a0d42d22d54673b69e176d30ca98e3f61513e980/pbr-5.5.1-py2.py3-none-any.whl (106kB)\n",
            "\u001b[K     |████████████████████████████████| 112kB 11.5MB/s \n",
            "\u001b[?25hRequirement already satisfied: PrettyTable<0.8,>=0.7.2 in /usr/local/lib/python3.6/dist-packages (from cliff->optuna) (0.7.2)\n",
            "Collecting Mako\n",
            "\u001b[?25l  Downloading https://files.pythonhosted.org/packages/a6/37/0e706200d22172eb8fa17d68a7ae22dec7631a0a92266634fb518a88a5b2/Mako-1.1.3-py2.py3-none-any.whl (75kB)\n",
            "\u001b[K     |████████████████████████████████| 81kB 6.2MB/s \n",
            "\u001b[?25hCollecting python-editor>=0.3\n",
            "  Downloading https://files.pythonhosted.org/packages/c6/d3/201fc3abe391bbae6606e6f1d598c15d367033332bd54352b12f35513717/python_editor-1.0.4-py3-none-any.whl\n",
            "Requirement already satisfied: python-dateutil in /usr/local/lib/python3.6/dist-packages (from alembic->optuna) (2.8.1)\n",
            "Collecting pyperclip>=1.6\n",
            "  Downloading https://files.pythonhosted.org/packages/6f/4c/0b1d507ad7e8bc31d690d04b4f475e74c2002d060f7994ce8c09612df707/pyperclip-1.8.1.tar.gz\n",
            "Requirement already satisfied: wcwidth>=0.1.7 in /usr/local/lib/python3.6/dist-packages (from cmd2!=0.8.3,>=0.8.0->cliff->optuna) (0.2.5)\n",
            "Requirement already satisfied: attrs>=16.3.0 in /usr/local/lib/python3.6/dist-packages (from cmd2!=0.8.3,>=0.8.0->cliff->optuna) (20.2.0)\n",
            "Collecting colorama>=0.3.7\n",
            "  Downloading https://files.pythonhosted.org/packages/44/98/5b86278fbbf250d239ae0ecb724f8572af1c91f4a11edf4d36a206189440/colorama-0.4.4-py2.py3-none-any.whl\n",
            "Requirement already satisfied: importlib-metadata>=1.6.0; python_version < \"3.8\" in /usr/local/lib/python3.6/dist-packages (from cmd2!=0.8.3,>=0.8.0->cliff->optuna) (2.0.0)\n",
            "Requirement already satisfied: setuptools>=34.4 in /usr/local/lib/python3.6/dist-packages (from cmd2!=0.8.3,>=0.8.0->cliff->optuna) (50.3.0)\n",
            "Requirement already satisfied: MarkupSafe>=0.9.2 in /usr/local/lib/python3.6/dist-packages (from Mako->alembic->optuna) (1.1.1)\n",
            "Requirement already satisfied: zipp>=0.5 in /usr/local/lib/python3.6/dist-packages (from importlib-metadata>=1.6.0; python_version < \"3.8\"->cmd2!=0.8.3,>=0.8.0->cliff->optuna) (3.2.0)\n",
            "Building wheels for collected packages: optuna\n",
            "  Building wheel for optuna (PEP 517) ... \u001b[?25l\u001b[?25hdone\n",
            "  Created wheel for optuna: filename=optuna-2.2.0-cp36-none-any.whl size=340928 sha256=da383a809a4bcd218c08c22b0c39b0e907cc1a01de5fa03dbd9c30e748986b83\n",
            "  Stored in directory: /root/.cache/pip/wheels/a6/27/26/3ef57a8fb2c8bceef3f4ece73483cec1895e06eae442d34a41\n",
            "Successfully built optuna\n",
            "Building wheels for collected packages: pyperclip\n",
            "  Building wheel for pyperclip (setup.py) ... \u001b[?25l\u001b[?25hdone\n",
            "  Created wheel for pyperclip: filename=pyperclip-1.8.1-cp36-none-any.whl size=11119 sha256=365e5606f0007cb00406175de9106f0290989b724163c79e1d629dd5ce17d4a2\n",
            "  Stored in directory: /root/.cache/pip/wheels/44/10/3a/c830e9bb3db2c93274ea1f213a41fabde0d8cf3794251fad0c\n",
            "Successfully built pyperclip\n",
            "Installing collected packages: pyperclip, colorama, cmd2, pbr, stevedore, cliff, Mako, python-editor, alembic, colorlog, cmaes, optuna\n",
            "Successfully installed Mako-1.1.3 alembic-1.4.3 cliff-3.4.0 cmaes-0.7.0 cmd2-1.3.11 colorama-0.4.4 colorlog-4.4.0 optuna-2.2.0 pbr-5.5.1 pyperclip-1.8.1 python-editor-1.0.4 stevedore-3.2.2\n",
            "Collecting catboost\n",
            "\u001b[?25l  Downloading https://files.pythonhosted.org/packages/52/39/128fff65072c8327371e3c594f3c826d29c85b21cb6485980353b168e0e4/catboost-0.24.2-cp36-none-manylinux1_x86_64.whl (66.1MB)\n",
            "\u001b[K     |████████████████████████████████| 66.2MB 58kB/s \n",
            "\u001b[?25hRequirement already satisfied: graphviz in /usr/local/lib/python3.6/dist-packages (from catboost) (0.10.1)\n",
            "Requirement already satisfied: plotly in /usr/local/lib/python3.6/dist-packages (from catboost) (4.4.1)\n",
            "Requirement already satisfied: pandas>=0.24.0 in /usr/local/lib/python3.6/dist-packages (from catboost) (1.1.2)\n",
            "Requirement already satisfied: scipy in /usr/local/lib/python3.6/dist-packages (from catboost) (1.4.1)\n",
            "Requirement already satisfied: matplotlib in /usr/local/lib/python3.6/dist-packages (from catboost) (3.2.2)\n",
            "Requirement already satisfied: numpy>=1.16.0 in /usr/local/lib/python3.6/dist-packages (from catboost) (1.18.5)\n",
            "Requirement already satisfied: six in /usr/local/lib/python3.6/dist-packages (from catboost) (1.15.0)\n",
            "Requirement already satisfied: retrying>=1.3.3 in /usr/local/lib/python3.6/dist-packages (from plotly->catboost) (1.3.3)\n",
            "Requirement already satisfied: pytz>=2017.2 in /usr/local/lib/python3.6/dist-packages (from pandas>=0.24.0->catboost) (2018.9)\n",
            "Requirement already satisfied: python-dateutil>=2.7.3 in /usr/local/lib/python3.6/dist-packages (from pandas>=0.24.0->catboost) (2.8.1)\n",
            "Requirement already satisfied: kiwisolver>=1.0.1 in /usr/local/lib/python3.6/dist-packages (from matplotlib->catboost) (1.2.0)\n",
            "Requirement already satisfied: cycler>=0.10 in /usr/local/lib/python3.6/dist-packages (from matplotlib->catboost) (0.10.0)\n",
            "Requirement already satisfied: pyparsing!=2.0.4,!=2.1.2,!=2.1.6,>=2.0.1 in /usr/local/lib/python3.6/dist-packages (from matplotlib->catboost) (2.4.7)\n",
            "Installing collected packages: catboost\n",
            "Successfully installed catboost-0.24.2\n"
          ],
          "name": "stdout"
        }
      ]
    },
    {
      "cell_type": "code",
      "metadata": {
        "id": "JEY880HpGZPt"
      },
      "source": [
        "import numpy as np\n",
        "import pandas as pd\n",
        "from sklearn.model_selection import train_test_split\n",
        "from sklearn.preprocessing import StandardScaler\n",
        "from sklearn.linear_model import LogisticRegressionCV\n",
        "from sklearn.metrics import roc_auc_score\n",
        "from sklearn.metrics import accuracy_score\n",
        "from sklearn.model_selection import RandomizedSearchCV, GridSearchCV\n",
        "from datetime import datetime\n",
        "from sklearn.ensemble import StackingClassifier, RandomForestClassifier\n",
        "from sklearn.model_selection import StratifiedKFold\n",
        "from xgboost import XGBClassifier\n",
        "from sklearn.metrics import classification_report\n",
        "from lightgbm import LGBMClassifier\n",
        "from scipy.stats import randint as sp_randint\n",
        "from sklearn.tree import DecisionTreeClassifier\n",
        "from scipy.stats import uniform as sp_uniform\n",
        "from sklearn.model_selection import cross_val_score\n",
        "import seaborn as sns\n",
        "import matplotlib.pyplot as plt\n",
        "from catboost import CatBoostClassifier, Pool\n",
        "import optuna\n",
        "# from optcat.core import CatBoostClassifier"
      ],
      "execution_count": null,
      "outputs": []
    },
    {
      "cell_type": "code",
      "metadata": {
        "id": "tdPxF3qJGwIn"
      },
      "source": [
        "def average(df):\n",
        "    sum = 0\n",
        "    count = 0\n",
        "    for x in df['f1']:\n",
        "        if x!=-1:\n",
        "            sum+=x\n",
        "            count+=1\n",
        "    avg = sum/count\n",
        "    return avg"
      ],
      "execution_count": null,
      "outputs": []
    },
    {
      "cell_type": "code",
      "metadata": {
        "id": "obYWdfWXGwLN"
      },
      "source": [
        "def results(model, X_train, X_valid,y_train, y_valid):\n",
        "    soft_probs = model.predict_proba(X_valid)\n",
        "    valid_auc = roc_auc_score(y_valid, soft_probs[:,1])\n",
        "    print(valid_auc)\n",
        "    train_preds = model.predict(X_train)\n",
        "    acc = accuracy_score(y_train, train_preds)\n",
        "    print(acc)\n",
        "    preds = model.predict(X_valid)\n",
        "    acc = accuracy_score(y_valid, preds)\n",
        "    print(acc)\n",
        "    print(classification_report(y_valid,preds))"
      ],
      "execution_count": null,
      "outputs": []
    },
    {
      "cell_type": "code",
      "metadata": {
        "id": "1mgX1I-1GwNr"
      },
      "source": [
        "df = pd.read_csv(\"train_final.csv\")\n",
        "# f1_avg = average(df)\n",
        "# df['f1'].replace(-1,f1_avg, inplace = True)\n",
        "# df.describe()"
      ],
      "execution_count": null,
      "outputs": []
    },
    {
      "cell_type": "code",
      "metadata": {
        "id": "klcIZABEGwQA"
      },
      "source": [
        "y = df.loc[:,'Y']\n",
        "X = df.loc[:,'f1':'f24']\n",
        "X['f3']=100000*X['f3']\n",
        "X['f3'] = X['f3'].astype('int')\n",
        "# X['f1'] = X['f1'].astype('int')\n",
        "X_train, X_valid, y_train, y_valid = train_test_split(X,y,train_size = 0.75, test_size = 0.25,random_state = 42, shuffle = True)"
      ],
      "execution_count": null,
      "outputs": []
    },
    {
      "cell_type": "code",
      "metadata": {
        "id": "sY_miFEUGwSS",
        "outputId": "6df8d036-1c15-4f84-912e-9c837ac9ba35",
        "colab": {
          "base_uri": "https://localhost:8080/",
          "height": 442
        }
      },
      "source": [
        "X.dtypes"
      ],
      "execution_count": null,
      "outputs": [
        {
          "output_type": "execute_result",
          "data": {
            "text/plain": [
              "f1       int64\n",
              "f2       int64\n",
              "f3     float64\n",
              "f4       int64\n",
              "f5       int64\n",
              "f6       int64\n",
              "f7       int64\n",
              "f8       int64\n",
              "f9       int64\n",
              "f10      int64\n",
              "f11      int64\n",
              "f12      int64\n",
              "f13      int64\n",
              "f14    float64\n",
              "f15      int64\n",
              "f16      int64\n",
              "f17      int64\n",
              "f18      int64\n",
              "f19      int64\n",
              "f20      int64\n",
              "f21      int64\n",
              "f22      int64\n",
              "f23      int64\n",
              "f24      int64\n",
              "dtype: object"
            ]
          },
          "metadata": {
            "tags": []
          },
          "execution_count": 42
        }
      ]
    },
    {
      "cell_type": "code",
      "metadata": {
        "id": "lp7Dan9KJwSl"
      },
      "source": [
        "# 1st best (cat_features=cat_indices,\n",
        "#                            n_estimators=950,                         \n",
        "#                            learning_rate =0.01600,\n",
        "#                            random_state = 42,\n",
        "#                            subsample = 0.66322,\n",
        "#                            early_stopping_rounds = 30,\n",
        "#                            max_depth = 8,\n",
        "#                            one_hot_max_size = 10,\n",
        "#                            verbose=100,\n",
        "#                            eval_metric='AUC:hints=skip_train~false')"
      ],
      "execution_count": null,
      "outputs": []
    },
    {
      "cell_type": "code",
      "metadata": {
        "id": "CHhWgSk6GwUk",
        "outputId": "82d51479-86a5-4bef-b0af-ad53869f05a9",
        "colab": {
          "base_uri": "https://localhost:8080/",
          "height": 408
        }
      },
      "source": [
        "# # cat_indices = [0,1,3,4,5,6,7,8,9,10,11,12,14,15,16,17,19,18,20,21,22,23]\n",
        "# cat_indices = [0,1,3,4,5,6,7,8,9,10,11,12,14,15,16,17,19,18,20,21,22,23]\n",
        "# model_cat = CatBoostClassifier(cat_features=cat_indices,\n",
        "#                            n_estimators=950,                         \n",
        "#                            learning_rate =0.01600,\n",
        "#                            random_state = 42,\n",
        "#                            subsample = 0.66322,\n",
        "#                            early_stopping_rounds = 30,\n",
        "#                            max_depth = 8,\n",
        "#                            bagging_temperature = 10.0,\n",
        "#                            one_hot_max_size = 10,\n",
        "#                            verbose=100,\n",
        "#                           #  task_type='GPU',\n",
        "#                           #  bootstrap_type = \"Poisson\",\n",
        "#                            eval_metric='AUC:hints=skip_train~false')\n",
        "# model_cat.fit(X_train,y_train)\n",
        "# results(model_cat,X_train, X_valid, y_train, y_valid)"
      ],
      "execution_count": null,
      "outputs": [
        {
          "output_type": "stream",
          "text": [
            "0:\tlearn: 0.5608977\ttotal: 58.6ms\tremaining: 55.6s\n",
            "100:\tlearn: 0.8754048\ttotal: 4.97s\tremaining: 41.7s\n",
            "200:\tlearn: 0.9073232\ttotal: 11.3s\tremaining: 42s\n",
            "300:\tlearn: 0.9249716\ttotal: 17.4s\tremaining: 37.5s\n",
            "400:\tlearn: 0.9338899\ttotal: 23.6s\tremaining: 32.2s\n",
            "500:\tlearn: 0.9412157\ttotal: 29.3s\tremaining: 26.3s\n",
            "600:\tlearn: 0.9473682\ttotal: 35.4s\tremaining: 20.5s\n",
            "700:\tlearn: 0.9527641\ttotal: 41.8s\tremaining: 14.9s\n",
            "800:\tlearn: 0.9587952\ttotal: 48.5s\tremaining: 9.01s\n",
            "900:\tlearn: 0.9641528\ttotal: 55.1s\tremaining: 2.99s\n",
            "949:\tlearn: 0.9666309\ttotal: 58.4s\tremaining: 0us\n",
            "0.9128588031286895\n",
            "0.9779441686335151\n",
            "0.965576171875\n",
            "              precision    recall  f1-score   support\n",
            "\n",
            "           0       0.90      0.42      0.57       224\n",
            "           1       0.97      1.00      0.98      3872\n",
            "\n",
            "    accuracy                           0.97      4096\n",
            "   macro avg       0.93      0.71      0.78      4096\n",
            "weighted avg       0.96      0.97      0.96      4096\n",
            "\n"
          ],
          "name": "stdout"
        }
      ]
    },
    {
      "cell_type": "code",
      "metadata": {
        "id": "SRssRnbkGwXN"
      },
      "source": [
        "optuna.logging.set_verbosity(optuna.logging.WARNING)\n",
        "SEED = 42\n",
        "cat_indices = [0,2,1,3,4,5,6,7,8,9,10,11,12,14,15,17,19,18,20,21,22,23]"
      ],
      "execution_count": null,
      "outputs": []
    },
    {
      "cell_type": "code",
      "metadata": {
        "id": "MIWGKe4aCLKT"
      },
      "source": [
        "def objective(trial):\n",
        "\n",
        "    params_cat_optuna = {\n",
        "        # 'colsample_bylevel': trial.suggest_uniform('colsample_bylevel', 0.3, 1.0),\n",
        "        'max_depth': trial.suggest_int('max_depth', 7, 13),\n",
        "        'n_estimators' : trial.suggest_int('n_estimators',900,1500),\n",
        "         'subsample': trial.suggest_uniform('subsample', 0.5, 0.9),\n",
        "        'learning_rate':trial.suggest_uniform('learning_rate', 0.01, 0.08)\n",
        "    }\n",
        "\n",
        "    #update parameters\n",
        "    # if params_cat_optuna['bootstrap_type'] == 'Bayesian':\n",
        "    #     params_cat_optuna['bagging_temperature'] = trial.suggest_uniform('bagging_temperature', 0, 10)\n",
        "    # elif params_cat_optuna['bootstrap_type'] == 'Bernoulli':\n",
        "    #     params_cat_optuna['subsample'] = trial.suggest_uniform('subsample', 0.4, 1.0)\n",
        "        \n",
        "    # fit the model\n",
        "    model = CatBoostClassifier(cat_features=cat_indices,\n",
        "                               random_state=SEED, \n",
        "                               eval_metric=\"AUC\",\n",
        "                               **params_cat_optuna,\n",
        "                               one_hot_max_size=10,\n",
        "                               bootstrap_type = \"Bernoulli\"\n",
        "                               )\n",
        "    model.fit(X_train, y_train,\n",
        "            eval_set=[(X_valid, y_valid)],\n",
        "            verbose=0,\n",
        "            early_stopping_rounds=100)\n",
        "    \n",
        "    ypreds = model.predict(X_valid)\n",
        "    ypreds = np.rint(ypreds)\n",
        "    score = roc_auc_score(y_valid.to_numpy().ravel(),\n",
        "                              ypreds)\n",
        "    return score"
      ],
      "execution_count": null,
      "outputs": []
    },
    {
      "cell_type": "code",
      "metadata": {
        "id": "Qcco5U0TD0jn"
      },
      "source": [
        "sampler = optuna.samplers.TPESampler(seed=SEED)\n",
        "N_TRIALS = 100 # make it large\n",
        "\n",
        "study = optuna.create_study(direction='maximize',\n",
        "                            sampler=sampler,\n",
        "                            study_name='cat_optuna',\n",
        "                            storage='sqlite:///cat_optuna_fraud_detection.db',\n",
        "                            load_if_exists=True)\n",
        "\n",
        "study.optimize(objective, n_trials=N_TRIALS,timeout=1000)"
      ],
      "execution_count": null,
      "outputs": []
    },
    {
      "cell_type": "code",
      "metadata": {
        "id": "LKxHbX2lEcD8",
        "outputId": "194d355d-dba2-43aa-c1d7-2a394decca55",
        "colab": {
          "base_uri": "https://localhost:8080/",
          "height": 102
        }
      },
      "source": [
        "print(f'Number of finished trials: {len(study.trials)}')\n",
        "\n",
        "# best trail\n",
        "best_trial = study.best_trial\n",
        "\n",
        "# best params\n",
        "params_best = study.best_trial.params\n",
        "params_best"
      ],
      "execution_count": null,
      "outputs": [
        {
          "output_type": "stream",
          "text": [
            "Number of finished trials: 60\n"
          ],
          "name": "stdout"
        },
        {
          "output_type": "execute_result",
          "data": {
            "text/plain": [
              "{'learning_rate': 0.04312410475726457,\n",
              " 'max_depth': 7,\n",
              " 'n_estimators': 1221,\n",
              " 'subsample': 0.8414500045940871}"
            ]
          },
          "metadata": {
            "tags": []
          },
          "execution_count": 66
        }
      ]
    },
    {
      "cell_type": "code",
      "metadata": {
        "id": "4_xrFe73EdN4",
        "outputId": "3e9e108e-7459-42db-dbf6-84b4ba957621",
        "colab": {
          "base_uri": "https://localhost:8080/",
          "height": 54
        }
      },
      "source": [
        "print(params_best)"
      ],
      "execution_count": null,
      "outputs": [
        {
          "output_type": "stream",
          "text": [
            "{'colsample_bylevel': 0.3785351404284387, 'learning_rate': 0.036653805837398225, 'max_depth': 7, 'n_estimators': 1144, 'subsample': 0.7938237574450032}\n"
          ],
          "name": "stdout"
        }
      ]
    },
    {
      "cell_type": "code",
      "metadata": {
        "id": "zw91Kdd7FBaH",
        "outputId": "a0128ae4-da87-4989-eadb-8fc06ec6d6e6",
        "colab": {
          "base_uri": "https://localhost:8080/",
          "height": 221
        }
      },
      "source": [
        "clf = CatBoostClassifier(cat_features=cat_indices,random_state=SEED, eval_metric=\"AUC\", one_hot_max_size=10,verbose=False)\n",
        "clf.set_params(**params_best)\n",
        "clf.fit(X_train, y_train)\n",
        "results(clf,X_train, X_valid, y_train, y_valid)"
      ],
      "execution_count": null,
      "outputs": [
        {
          "output_type": "stream",
          "text": [
            "0.9112734743949232\n",
            "0.9803043867502238\n",
            "0.965087890625\n",
            "              precision    recall  f1-score   support\n",
            "\n",
            "           0       0.85      0.44      0.58       224\n",
            "           1       0.97      1.00      0.98      3872\n",
            "\n",
            "    accuracy                           0.97      4096\n",
            "   macro avg       0.91      0.72      0.78      4096\n",
            "weighted avg       0.96      0.97      0.96      4096\n",
            "\n"
          ],
          "name": "stdout"
        }
      ]
    },
    {
      "cell_type": "code",
      "metadata": {
        "id": "pZZCzGykSubo",
        "outputId": "5eeb3747-f80f-461e-a504-22dc1e1c70a9",
        "colab": {
          "base_uri": "https://localhost:8080/",
          "height": 34
        }
      },
      "source": [
        "clf.fit(X,y)"
      ],
      "execution_count": null,
      "outputs": [
        {
          "output_type": "execute_result",
          "data": {
            "text/plain": [
              "<catboost.core.CatBoostClassifier at 0x7f9020290198>"
            ]
          },
          "metadata": {
            "tags": []
          },
          "execution_count": 108
        }
      ]
    },
    {
      "cell_type": "code",
      "metadata": {
        "id": "mgxQkxXOSxm_"
      },
      "source": [
        "testdf = pd.read_csv(\"test_final.csv\")\n",
        "\n",
        "X_test = testdf.loc[:,'f1':'f24']\n",
        "X_test['f3']=100000*X_test['f3']\n",
        "X_test['f3'] = X_test['f3'].astype('int')\n",
        "test_preds = clf.predict_proba(X_test)\n",
        "substacked = {\"Id\":testdf['Id'],\"Y\":test_preds[:,1]}\n",
        "substacked= pd.DataFrame(data=substacked)\n",
        "substacked.to_csv(\"optuna2.csv\", index=False)"
      ],
      "execution_count": null,
      "outputs": []
    },
    {
      "cell_type": "code",
      "metadata": {
        "id": "NUmRuWdfD6cw"
      },
      "source": [
        "# Resume from last time\n",
        "sampler = optuna.samplers.TPESampler(seed=SEED)\n",
        "N_TRIALS = 2000 # make it large\n",
        "\n",
        "study = optuna.create_study(direction='maximize',\n",
        "                            sampler=sampler,\n",
        "                            study_name='cat_optuna',\n",
        "                            storage='sqlite:///cat_optuna_fraud_detection.db',\n",
        "                            load_if_exists=True)\n",
        "\n",
        "study.optimize(objective, n_trials=N_TRIALS,timeout=1000)"
      ],
      "execution_count": null,
      "outputs": []
    },
    {
      "cell_type": "code",
      "metadata": {
        "id": "0hFu6Fv7KQvY"
      },
      "source": [
        "print(f'Number of finished trials: {len(study.trials)}')\n",
        "\n",
        "# best trail\n",
        "best_trial = study.best_trial\n",
        "\n",
        "# best params\n",
        "params_best = study.best_trial.params\n",
        "params_best"
      ],
      "execution_count": null,
      "outputs": []
    },
    {
      "cell_type": "code",
      "metadata": {
        "id": "_3lXhrfbKQx3"
      },
      "source": [
        "clf = CatBoostClassifier(random_state=SEED, eval_metric=\"AUC\", one_hot_max_size=10,verbose=False)\n",
        "clf.set_params(**params_best)\n",
        "clf.fit(X_train, y_train)\n",
        "results(clf,X_train, X_valid, y_train, y_valid)"
      ],
      "execution_count": null,
      "outputs": []
    }
  ]
}